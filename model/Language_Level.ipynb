{
  "cells": [
    {
      "cell_type": "markdown",
      "metadata": {
        "id": "4RF_2B0PiQfX"
      },
      "source": [
        "**Import Library**"
      ]
    },
    {
      "cell_type": "code",
      "execution_count": 517,
      "metadata": {
        "id": "6P-mv5a8dwsJ"
      },
      "outputs": [],
      "source": [
        "from sklearn.preprocessing import StandardScaler\n",
        "import pandas as pd\n",
        "import numpy as np\n",
        "from matplotlib import pyplot as plt\n",
        "import seaborn as sns"
      ]
    },
    {
      "cell_type": "markdown",
      "metadata": {
        "id": "IM8uBObMiUUM"
      },
      "source": [
        "**Data Understanding**"
      ]
    },
    {
      "cell_type": "code",
      "execution_count": 518,
      "metadata": {
        "colab": {
          "base_uri": "https://localhost:8080/",
          "height": 424
        },
        "id": "1yQ6BwFneGl2",
        "outputId": "7658bbb5-51e1-4bde-ba71-904fd4938e40"
      },
      "outputs": [
        {
          "data": {
            "text/html": [
              "<div>\n",
              "<style scoped>\n",
              "    .dataframe tbody tr th:only-of-type {\n",
              "        vertical-align: middle;\n",
              "    }\n",
              "\n",
              "    .dataframe tbody tr th {\n",
              "        vertical-align: top;\n",
              "    }\n",
              "\n",
              "    .dataframe thead th {\n",
              "        text-align: right;\n",
              "    }\n",
              "</style>\n",
              "<table border=\"1\" class=\"dataframe\">\n",
              "  <thead>\n",
              "    <tr style=\"text-align: right;\">\n",
              "      <th></th>\n",
              "      <th>Unnamed: 0</th>\n",
              "      <th>Reading</th>\n",
              "      <th>Listening</th>\n",
              "      <th>Speaking</th>\n",
              "      <th>Writing</th>\n",
              "      <th>LangLevel</th>\n",
              "    </tr>\n",
              "  </thead>\n",
              "  <tbody>\n",
              "    <tr>\n",
              "      <th>0</th>\n",
              "      <td>0</td>\n",
              "      <td>0.15</td>\n",
              "      <td>0.38</td>\n",
              "      <td>0.22</td>\n",
              "      <td>0.24</td>\n",
              "      <td>1</td>\n",
              "    </tr>\n",
              "    <tr>\n",
              "      <th>1</th>\n",
              "      <td>1</td>\n",
              "      <td>0.06</td>\n",
              "      <td>0.06</td>\n",
              "      <td>0.02</td>\n",
              "      <td>0.35</td>\n",
              "      <td>1</td>\n",
              "    </tr>\n",
              "    <tr>\n",
              "      <th>2</th>\n",
              "      <td>2</td>\n",
              "      <td>0.24</td>\n",
              "      <td>0.28</td>\n",
              "      <td>0.01</td>\n",
              "      <td>0.39</td>\n",
              "      <td>1</td>\n",
              "    </tr>\n",
              "    <tr>\n",
              "      <th>3</th>\n",
              "      <td>3</td>\n",
              "      <td>0.33</td>\n",
              "      <td>0.08</td>\n",
              "      <td>0.05</td>\n",
              "      <td>0.07</td>\n",
              "      <td>1</td>\n",
              "    </tr>\n",
              "    <tr>\n",
              "      <th>4</th>\n",
              "      <td>4</td>\n",
              "      <td>0.12</td>\n",
              "      <td>0.21</td>\n",
              "      <td>0.13</td>\n",
              "      <td>0.12</td>\n",
              "      <td>1</td>\n",
              "    </tr>\n",
              "    <tr>\n",
              "      <th>...</th>\n",
              "      <td>...</td>\n",
              "      <td>...</td>\n",
              "      <td>...</td>\n",
              "      <td>...</td>\n",
              "      <td>...</td>\n",
              "      <td>...</td>\n",
              "    </tr>\n",
              "    <tr>\n",
              "      <th>295</th>\n",
              "      <td>295</td>\n",
              "      <td>0.99</td>\n",
              "      <td>0.87</td>\n",
              "      <td>0.93</td>\n",
              "      <td>0.99</td>\n",
              "      <td>3</td>\n",
              "    </tr>\n",
              "    <tr>\n",
              "      <th>296</th>\n",
              "      <td>296</td>\n",
              "      <td>0.82</td>\n",
              "      <td>0.99</td>\n",
              "      <td>0.94</td>\n",
              "      <td>0.81</td>\n",
              "      <td>3</td>\n",
              "    </tr>\n",
              "    <tr>\n",
              "      <th>297</th>\n",
              "      <td>297</td>\n",
              "      <td>0.86</td>\n",
              "      <td>0.94</td>\n",
              "      <td>0.81</td>\n",
              "      <td>0.92</td>\n",
              "      <td>3</td>\n",
              "    </tr>\n",
              "    <tr>\n",
              "      <th>298</th>\n",
              "      <td>298</td>\n",
              "      <td>0.87</td>\n",
              "      <td>0.92</td>\n",
              "      <td>0.81</td>\n",
              "      <td>0.97</td>\n",
              "      <td>3</td>\n",
              "    </tr>\n",
              "    <tr>\n",
              "      <th>299</th>\n",
              "      <td>299</td>\n",
              "      <td>0.99</td>\n",
              "      <td>0.99</td>\n",
              "      <td>0.95</td>\n",
              "      <td>0.83</td>\n",
              "      <td>3</td>\n",
              "    </tr>\n",
              "  </tbody>\n",
              "</table>\n",
              "<p>300 rows × 6 columns</p>\n",
              "</div>"
            ],
            "text/plain": [
              "     Unnamed: 0  Reading  Listening  Speaking  Writing  LangLevel\n",
              "0             0     0.15       0.38      0.22     0.24          1\n",
              "1             1     0.06       0.06      0.02     0.35          1\n",
              "2             2     0.24       0.28      0.01     0.39          1\n",
              "3             3     0.33       0.08      0.05     0.07          1\n",
              "4             4     0.12       0.21      0.13     0.12          1\n",
              "..          ...      ...        ...       ...      ...        ...\n",
              "295         295     0.99       0.87      0.93     0.99          3\n",
              "296         296     0.82       0.99      0.94     0.81          3\n",
              "297         297     0.86       0.94      0.81     0.92          3\n",
              "298         298     0.87       0.92      0.81     0.97          3\n",
              "299         299     0.99       0.99      0.95     0.83          3\n",
              "\n",
              "[300 rows x 6 columns]"
            ]
          },
          "execution_count": 518,
          "metadata": {},
          "output_type": "execute_result"
        }
      ],
      "source": [
        "dataset = pd.read_csv('./lang_scores.csv')\n",
        "dataset"
      ]
    },
    {
      "cell_type": "code",
      "execution_count": 519,
      "metadata": {
        "colab": {
          "base_uri": "https://localhost:8080/",
          "height": 300
        },
        "id": "0PMBCAGWehwf",
        "outputId": "d49be131-437b-488a-bf6a-469eef99f907"
      },
      "outputs": [
        {
          "data": {
            "text/html": [
              "<div>\n",
              "<style scoped>\n",
              "    .dataframe tbody tr th:only-of-type {\n",
              "        vertical-align: middle;\n",
              "    }\n",
              "\n",
              "    .dataframe tbody tr th {\n",
              "        vertical-align: top;\n",
              "    }\n",
              "\n",
              "    .dataframe thead th {\n",
              "        text-align: right;\n",
              "    }\n",
              "</style>\n",
              "<table border=\"1\" class=\"dataframe\">\n",
              "  <thead>\n",
              "    <tr style=\"text-align: right;\">\n",
              "      <th></th>\n",
              "      <th>Unnamed: 0</th>\n",
              "      <th>Reading</th>\n",
              "      <th>Listening</th>\n",
              "      <th>Speaking</th>\n",
              "      <th>Writing</th>\n",
              "      <th>LangLevel</th>\n",
              "    </tr>\n",
              "  </thead>\n",
              "  <tbody>\n",
              "    <tr>\n",
              "      <th>count</th>\n",
              "      <td>300.000000</td>\n",
              "      <td>300.000000</td>\n",
              "      <td>300.000000</td>\n",
              "      <td>300.000000</td>\n",
              "      <td>300.000000</td>\n",
              "      <td>300.000000</td>\n",
              "    </tr>\n",
              "    <tr>\n",
              "      <th>mean</th>\n",
              "      <td>149.500000</td>\n",
              "      <td>0.505433</td>\n",
              "      <td>0.512200</td>\n",
              "      <td>0.465733</td>\n",
              "      <td>0.519967</td>\n",
              "      <td>2.006667</td>\n",
              "    </tr>\n",
              "    <tr>\n",
              "      <th>std</th>\n",
              "      <td>86.746758</td>\n",
              "      <td>0.275526</td>\n",
              "      <td>0.275298</td>\n",
              "      <td>0.280242</td>\n",
              "      <td>0.277404</td>\n",
              "      <td>0.809613</td>\n",
              "    </tr>\n",
              "    <tr>\n",
              "      <th>min</th>\n",
              "      <td>0.000000</td>\n",
              "      <td>0.000000</td>\n",
              "      <td>0.000000</td>\n",
              "      <td>0.010000</td>\n",
              "      <td>0.010000</td>\n",
              "      <td>1.000000</td>\n",
              "    </tr>\n",
              "    <tr>\n",
              "      <th>25%</th>\n",
              "      <td>74.750000</td>\n",
              "      <td>0.310000</td>\n",
              "      <td>0.287500</td>\n",
              "      <td>0.220000</td>\n",
              "      <td>0.297500</td>\n",
              "      <td>1.000000</td>\n",
              "    </tr>\n",
              "    <tr>\n",
              "      <th>50%</th>\n",
              "      <td>149.500000</td>\n",
              "      <td>0.525000</td>\n",
              "      <td>0.520000</td>\n",
              "      <td>0.440000</td>\n",
              "      <td>0.570000</td>\n",
              "      <td>2.000000</td>\n",
              "    </tr>\n",
              "    <tr>\n",
              "      <th>75%</th>\n",
              "      <td>224.250000</td>\n",
              "      <td>0.730000</td>\n",
              "      <td>0.750000</td>\n",
              "      <td>0.690000</td>\n",
              "      <td>0.742500</td>\n",
              "      <td>3.000000</td>\n",
              "    </tr>\n",
              "    <tr>\n",
              "      <th>max</th>\n",
              "      <td>299.000000</td>\n",
              "      <td>1.000000</td>\n",
              "      <td>0.990000</td>\n",
              "      <td>0.990000</td>\n",
              "      <td>1.000000</td>\n",
              "      <td>3.000000</td>\n",
              "    </tr>\n",
              "  </tbody>\n",
              "</table>\n",
              "</div>"
            ],
            "text/plain": [
              "       Unnamed: 0     Reading   Listening    Speaking     Writing   LangLevel\n",
              "count  300.000000  300.000000  300.000000  300.000000  300.000000  300.000000\n",
              "mean   149.500000    0.505433    0.512200    0.465733    0.519967    2.006667\n",
              "std     86.746758    0.275526    0.275298    0.280242    0.277404    0.809613\n",
              "min      0.000000    0.000000    0.000000    0.010000    0.010000    1.000000\n",
              "25%     74.750000    0.310000    0.287500    0.220000    0.297500    1.000000\n",
              "50%    149.500000    0.525000    0.520000    0.440000    0.570000    2.000000\n",
              "75%    224.250000    0.730000    0.750000    0.690000    0.742500    3.000000\n",
              "max    299.000000    1.000000    0.990000    0.990000    1.000000    3.000000"
            ]
          },
          "execution_count": 519,
          "metadata": {},
          "output_type": "execute_result"
        }
      ],
      "source": [
        "dataset.describe()"
      ]
    },
    {
      "cell_type": "code",
      "execution_count": 520,
      "metadata": {
        "colab": {
          "base_uri": "https://localhost:8080/"
        },
        "id": "IM9HdoTieoDD",
        "outputId": "ef69f51a-22ee-49c8-8450-6b78db187157"
      },
      "outputs": [
        {
          "data": {
            "text/plain": [
              "Unnamed: 0    0\n",
              "Reading       0\n",
              "Listening     0\n",
              "Speaking      0\n",
              "Writing       0\n",
              "LangLevel     0\n",
              "dtype: int64"
            ]
          },
          "execution_count": 520,
          "metadata": {},
          "output_type": "execute_result"
        }
      ],
      "source": [
        "dataset.isnull().sum()"
      ]
    },
    {
      "cell_type": "code",
      "execution_count": 521,
      "metadata": {},
      "outputs": [
        {
          "data": {
            "text/plain": [
              "Unnamed: 0      int64\n",
              "Reading       float64\n",
              "Listening     float64\n",
              "Speaking      float64\n",
              "Writing       float64\n",
              "LangLevel       int64\n",
              "dtype: object"
            ]
          },
          "execution_count": 521,
          "metadata": {},
          "output_type": "execute_result"
        }
      ],
      "source": [
        "dataset.dtypes"
      ]
    },
    {
      "cell_type": "code",
      "execution_count": 522,
      "metadata": {},
      "outputs": [
        {
          "data": {
            "text/html": [
              "<div>\n",
              "<style scoped>\n",
              "    .dataframe tbody tr th:only-of-type {\n",
              "        vertical-align: middle;\n",
              "    }\n",
              "\n",
              "    .dataframe tbody tr th {\n",
              "        vertical-align: top;\n",
              "    }\n",
              "\n",
              "    .dataframe thead th {\n",
              "        text-align: right;\n",
              "    }\n",
              "</style>\n",
              "<table border=\"1\" class=\"dataframe\">\n",
              "  <thead>\n",
              "    <tr style=\"text-align: right;\">\n",
              "      <th></th>\n",
              "      <th>Unnamed: 0</th>\n",
              "      <th>Reading</th>\n",
              "      <th>Listening</th>\n",
              "      <th>Speaking</th>\n",
              "      <th>Writing</th>\n",
              "      <th>LangLevel</th>\n",
              "    </tr>\n",
              "  </thead>\n",
              "  <tbody>\n",
              "    <tr>\n",
              "      <th>Unnamed: 0</th>\n",
              "      <td>1.000000</td>\n",
              "      <td>0.887735</td>\n",
              "      <td>0.883067</td>\n",
              "      <td>0.914218</td>\n",
              "      <td>0.881328</td>\n",
              "      <td>0.900512</td>\n",
              "    </tr>\n",
              "    <tr>\n",
              "      <th>Reading</th>\n",
              "      <td>0.887735</td>\n",
              "      <td>1.000000</td>\n",
              "      <td>0.844408</td>\n",
              "      <td>0.874050</td>\n",
              "      <td>0.849934</td>\n",
              "      <td>0.895069</td>\n",
              "    </tr>\n",
              "    <tr>\n",
              "      <th>Listening</th>\n",
              "      <td>0.883067</td>\n",
              "      <td>0.844408</td>\n",
              "      <td>1.000000</td>\n",
              "      <td>0.887416</td>\n",
              "      <td>0.862021</td>\n",
              "      <td>0.901459</td>\n",
              "    </tr>\n",
              "    <tr>\n",
              "      <th>Speaking</th>\n",
              "      <td>0.914218</td>\n",
              "      <td>0.874050</td>\n",
              "      <td>0.887416</td>\n",
              "      <td>1.000000</td>\n",
              "      <td>0.896579</td>\n",
              "      <td>0.919503</td>\n",
              "    </tr>\n",
              "    <tr>\n",
              "      <th>Writing</th>\n",
              "      <td>0.881328</td>\n",
              "      <td>0.849934</td>\n",
              "      <td>0.862021</td>\n",
              "      <td>0.896579</td>\n",
              "      <td>1.000000</td>\n",
              "      <td>0.908085</td>\n",
              "    </tr>\n",
              "    <tr>\n",
              "      <th>LangLevel</th>\n",
              "      <td>0.900512</td>\n",
              "      <td>0.895069</td>\n",
              "      <td>0.901459</td>\n",
              "      <td>0.919503</td>\n",
              "      <td>0.908085</td>\n",
              "      <td>1.000000</td>\n",
              "    </tr>\n",
              "  </tbody>\n",
              "</table>\n",
              "</div>"
            ],
            "text/plain": [
              "            Unnamed: 0   Reading  Listening  Speaking   Writing  LangLevel\n",
              "Unnamed: 0    1.000000  0.887735   0.883067  0.914218  0.881328   0.900512\n",
              "Reading       0.887735  1.000000   0.844408  0.874050  0.849934   0.895069\n",
              "Listening     0.883067  0.844408   1.000000  0.887416  0.862021   0.901459\n",
              "Speaking      0.914218  0.874050   0.887416  1.000000  0.896579   0.919503\n",
              "Writing       0.881328  0.849934   0.862021  0.896579  1.000000   0.908085\n",
              "LangLevel     0.900512  0.895069   0.901459  0.919503  0.908085   1.000000"
            ]
          },
          "execution_count": 522,
          "metadata": {},
          "output_type": "execute_result"
        }
      ],
      "source": [
        "dataset.corr()"
      ]
    },
    {
      "cell_type": "code",
      "execution_count": 523,
      "metadata": {},
      "outputs": [
        {
          "data": {
            "text/plain": [
              "<AxesSubplot:>"
            ]
          },
          "execution_count": 523,
          "metadata": {},
          "output_type": "execute_result"
        },
        {
          "data": {
            "image/png": "[encoded data removed]",
            "text/plain": [
              "<Figure size 640x480 with 2 Axes>"
            ]
          },
          "metadata": {},
          "output_type": "display_data"
        }
      ],
      "source": [
        "sns.heatmap(dataset.corr(), annot = True)"
      ]
    },
    {
      "cell_type": "code",
      "execution_count": 524,
      "metadata": {},
      "outputs": [],
      "source": [
        "dataset.drop('LangLevel', axis = 1, inplace = True)\n",
        "dataset.drop('Reading', axis=1, inplace=True)\n",
        "dataset.drop('Listening', axis=1, inplace=True)\n",
        "dataset.drop('Unnamed: 0', axis = 1, inplace = True)"
      ]
    },
    {
      "cell_type": "code",
      "execution_count": 525,
      "metadata": {},
      "outputs": [],
      "source": [
        "# from sklearn.preprocessing import MinMaxScaler\n",
        "# scaler = MinMaxScaler()\n",
        "# print(scaler.fit(dataset))\n",
        "# dataset"
      ]
    },
    {
      "cell_type": "markdown",
      "metadata": {
        "id": "YFrvHEXPijRQ"
      },
      "source": [
        "**Modelling**"
      ]
    },
    {
      "cell_type": "code",
      "execution_count": 526,
      "metadata": {
        "colab": {
          "base_uri": "https://localhost:8080/",
          "height": 295
        },
        "id": "CaB0rQNnfg5n",
        "outputId": "061d9ad4-390e-441c-e595-80d723220165"
      },
      "outputs": [
        {
          "data": {
            "image/png": "[encoded data removed]",
            "text/plain": [
              "<Figure size 640x480 with 1 Axes>"
            ]
          },
          "metadata": {},
          "output_type": "display_data"
        }
      ],
      "source": [
        "from sklearn.cluster import KMeans\n",
        "wcss=[]\n",
        "\n",
        "# asumsi jumlah K berada di antara 1 sampai 10\n",
        "for i in range(1,10):\n",
        "    kmeans = KMeans(n_clusters= i, init='k-means++', random_state=0)\n",
        "    kmeans.fit(dataset)\n",
        "    wcss.append(kmeans.inertia_)\n",
        "\n",
        "plt.plot(range(1, 10), wcss)\n",
        "plt.title('The Elbow Method')\n",
        "plt.xlabel('Number of clusters')\n",
        "plt.ylabel('WCSS')\n",
        "plt.show()"
      ]
    },
    {
      "cell_type": "code",
      "execution_count": 527,
      "metadata": {
        "id": "-jlQdgMYf1ml"
      },
      "outputs": [],
      "source": [
        "from sklearn.cluster import KMeans\n",
        "\n",
        "# menentukan jumlah cluster\n",
        "kmeans = KMeans(n_clusters=3)\n",
        "\n",
        "# fitting input data\n",
        "kmeans = kmeans.fit(dataset)\n",
        "\n",
        "# mendapatkan cluster labels\n",
        "labels = kmeans.predict(dataset)\n",
        "\n",
        "# mendapatkan nilai centroid\n",
        "centroids = kmeans.cluster_centers_"
      ]
    },
    {
      "cell_type": "code",
      "execution_count": 528,
      "metadata": {
        "colab": {
          "base_uri": "https://localhost:8080/"
        },
        "id": "cGRiZ84Kf3D-",
        "outputId": "73b5e6ab-ce49-4548-e4c6-db90c8006ef5"
      },
      "outputs": [
        {
          "data": {
            "text/plain": [
              "array([[0.77675926, 0.80731481],\n",
              "       [0.15809524, 0.20152381],\n",
              "       [0.45091954, 0.54758621]])"
            ]
          },
          "execution_count": 528,
          "metadata": {},
          "output_type": "execute_result"
        }
      ],
      "source": [
        "centroids"
      ]
    },
    {
      "cell_type": "code",
      "execution_count": 529,
      "metadata": {
        "colab": {
          "base_uri": "https://localhost:8080/"
        },
        "id": "AfK27wavf6eD",
        "outputId": "9a951120-d18a-4da8-c760-32b6b9662223"
      },
      "outputs": [
        {
          "data": {
            "text/plain": [
              "array([0, 0, 0, 0, 0, 0, 0, 0, 0, 0, 0, 0, 0, 0, 0, 0, 0, 0, 0, 0, 0, 0,\n",
              "       0, 0, 0, 0, 0, 0, 0, 0, 0, 0, 0, 0, 0, 0, 0, 0, 0, 0, 0, 0, 0, 0,\n",
              "       0, 0, 0, 0, 0, 0, 0, 0, 0, 0, 0, 0, 0, 0, 0, 0, 0, 0, 0, 0, 0, 0,\n",
              "       0, 0, 0, 0, 0, 0, 0, 0, 0, 0, 0, 0, 0, 0, 0, 0, 0, 0, 0, 0, 0, 0,\n",
              "       0, 0, 0, 0, 0, 0, 0, 0, 0, 0, 0, 0, 1, 1, 1, 1, 1, 1, 1, 1, 1, 1,\n",
              "       1, 1, 1, 1, 0, 1, 1, 1, 1, 1, 1, 1, 1, 1, 1, 1, 1, 1, 0, 1, 1, 1,\n",
              "       1, 1, 1, 1, 1, 1, 1, 1, 0, 1, 1, 1, 1, 1, 0, 1, 1, 0, 1, 1, 1, 1,\n",
              "       1, 1, 1, 1, 1, 1, 1, 1, 1, 1, 1, 1, 1, 1, 1, 1, 1, 1, 1, 1, 1, 1,\n",
              "       1, 1, 1, 1, 1, 1, 1, 1, 1, 2, 2, 2, 2, 2, 2, 2, 2, 2, 2, 2, 2, 2,\n",
              "       2, 2, 2, 2, 2, 2, 2, 2, 2, 2, 2, 2, 2, 2, 2, 2, 2, 2, 2, 2, 1, 1,\n",
              "       1, 2, 2, 2, 1, 2, 2, 2, 2, 2, 2, 2, 2, 2, 2, 2, 2, 2, 2, 2, 2, 2,\n",
              "       2, 1, 2, 1, 2, 2, 2, 2, 2, 2, 2, 2, 2, 2, 2, 2, 2, 2, 2, 1, 2, 2,\n",
              "       2, 2, 2, 2, 2, 2, 2, 2, 2, 2, 2, 2, 2, 2, 2, 2, 2, 2, 2, 2, 2, 2,\n",
              "       2, 2, 2, 2, 2, 2, 2, 2, 2, 2, 2, 2, 2, 2])"
            ]
          },
          "execution_count": 529,
          "metadata": {},
          "output_type": "execute_result"
        }
      ],
      "source": [
        "kmeansmodel = KMeans(n_clusters= 3, init='k-means++', random_state=0)\n",
        "y_kmeans= kmeansmodel.fit_predict(dataset)\n",
        "y_kmeans"
      ]
    },
    {
      "cell_type": "code",
      "execution_count": 530,
      "metadata": {},
      "outputs": [],
      "source": [
        "pred = y_kmeans"
      ]
    },
    {
      "cell_type": "code",
      "execution_count": 531,
      "metadata": {
        "colab": {
          "base_uri": "https://localhost:8080/"
        },
        "id": "mpYjKbxEgCzH",
        "outputId": "a2bde7b8-63de-4c45-8710-e7d3ace1792b"
      },
      "outputs": [
        {
          "data": {
            "text/plain": [
              "0.5294006151696091"
            ]
          },
          "execution_count": 531,
          "metadata": {},
          "output_type": "execute_result"
        }
      ],
      "source": [
        "from sklearn.metrics.cluster import silhouette_score\n",
        "silhouette_score(dataset, labels)"
      ]
    },
    {
      "cell_type": "markdown",
      "metadata": {
        "id": "doOmTlE5iooG"
      },
      "source": [
        "**Visualization**"
      ]
    },
    {
      "cell_type": "code",
      "execution_count": 532,
      "metadata": {
        "colab": {
          "base_uri": "https://localhost:8080/",
          "height": 281
        },
        "id": "Bhpw7wuFgGCn",
        "outputId": "8f3807c3-b056-4f18-8743-9cf41992c44c"
      },
      "outputs": [
        {
          "data": {
            "image/png": "[encoded data removed]",
            "text/plain": [
              "<Figure size 640x480 with 1 Axes>"
            ]
          },
          "metadata": {},
          "output_type": "display_data"
        }
      ],
      "source": [
        "#Visualizing all the clusters \n",
        "# dataset = dataset.values\n",
        "plt.scatter(dataset[pred == 0]['Speaking'], dataset[pred == 0]['Writing'], s = 30, c = 'red', label = 'Cluster 1')\n",
        "plt.scatter(dataset[pred == 1]['Speaking'], dataset[pred == 1]['Writing'], s = 30, c = 'blue', label = 'Cluster 2')\n",
        "plt.scatter(dataset[pred == 2]['Speaking'], dataset[pred == 2]['Writing'], s = 30, c = 'green', label = 'Cluster 3')\n",
        "plt.scatter(kmeans.cluster_centers_[:, 0], kmeans.cluster_centers_[:, 1], s=200, c='black', label='Centroids',marker = '*')\n",
        "plt.title('Clusters of Language Levels')\n",
        "plt.legend()\n",
        "plt.show()\n",
        "\n"
      ]
    },
    {
      "cell_type": "code",
      "execution_count": 533,
      "metadata": {},
      "outputs": [],
      "source": [
        "dataset['Cluster'] = pred"
      ]
    },
    {
      "cell_type": "code",
      "execution_count": 534,
      "metadata": {},
      "outputs": [
        {
          "data": {
            "text/plain": [
              "2    108\n",
              "0    105\n",
              "1     87\n",
              "Name: Cluster, dtype: int64"
            ]
          },
          "execution_count": 534,
          "metadata": {},
          "output_type": "execute_result"
        }
      ],
      "source": [
        "#jumlah anggota masing-masing cluster\n",
        "dataset['Cluster'].value_counts()"
      ]
    },
    {
      "cell_type": "code",
      "execution_count": 535,
      "metadata": {},
      "outputs": [
        {
          "data": {
            "text/plain": [
              "Speaking    float64\n",
              "Writing     float64\n",
              "Cluster       int32\n",
              "dtype: object"
            ]
          },
          "execution_count": 535,
          "metadata": {},
          "output_type": "execute_result"
        }
      ],
      "source": [
        "dataset.dtypes"
      ]
    },
    {
      "cell_type": "code",
      "execution_count": 536,
      "metadata": {},
      "outputs": [],
      "source": [
        "# Serializing the model\n",
        "import pickle\n",
        "pickle.dump(kmeans, open('model.pkl', 'wb'))"
      ]
    }
  ],
  "metadata": {
    "colab": {
      "provenance": []
    },
    "kernelspec": {
      "display_name": "Python 3.8.8 ('base')",
      "language": "python",
      "name": "python3"
    },
    "language_info": {
      "codemirror_mode": {
        "name": "ipython",
        "version": 3
      },
      "file_extension": ".py",
      "mimetype": "text/x-python",
      "name": "python",
      "nbconvert_exporter": "python",
      "pygments_lexer": "ipython3",
      "version": "3.8.8"
    },
    "vscode": {
      "interpreter": {
        "hash": "e4cce46d6be9934fbd27f9ca0432556941ea5bdf741d4f4d64c6cd7f8dfa8fba"
      }
    }
  },
  "nbformat": 4,
  "nbformat_minor": 0
}
